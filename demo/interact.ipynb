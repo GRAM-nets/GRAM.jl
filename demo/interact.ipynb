{
 "cells": [
  {
   "cell_type": "code",
   "execution_count": null,
   "metadata": {},
   "outputs": [],
   "source": [
    "using DrWatson\n",
    "@quickactivate \"GRAM\"\n",
    "\n",
    "args = (\n",
    "    seed    = 1,\n",
    "    dataset = \"cifar10\",\n",
    "    model   = \"gramnet\",\n",
    ")\n",
    "\n",
    "include(scriptsdir(\"predefined_args.jl\"))\n",
    "args = concat_predefined_args(args)\n",
    "\n",
    "@info \"Arguments\" args...\n",
    "\n",
    "###\n",
    "\n",
    "using MLToolkit.Datasets\n",
    "\n",
    "dataset = Dataset(args.dataset, 50_000; seed=args.seed, is_flatten=true, is_link=false)\n",
    "\n",
    "###\n",
    "\n",
    "using Logging, WeightsAndBiasLogger, Flux, MLToolkit.Neural, GRAM\n",
    "\n",
    "include(scriptsdir(\"model_by_args.jl\"))\n",
    "\n",
    "model = get_model(args, dataset) |> gpu\n",
    "\n",
    "###\n",
    "\n",
    "loadparams!(model, projectdir(\"demo\", \"cifar10-gramnet.bson\"))"
   ]
  },
  {
   "cell_type": "code",
   "execution_count": null,
   "metadata": {},
   "outputs": [],
   "source": [
    "using MLToolkit.Plots\n",
    "\n",
    "n_display = 100\n",
    "\n",
    "x_gen = rand(model.g, n_display)\n",
    "\n",
    "plot(ImageGrid(cpu(x_gen)), figsize=(7.5, 7.5)) |> display"
   ]
  },
  {
   "cell_type": "code",
   "execution_count": null,
   "metadata": {},
   "outputs": [],
   "source": []
  }
 ],
 "metadata": {
  "kernelspec": {
   "display_name": "Julia 1.3.1",
   "language": "julia",
   "name": "julia-1.3"
  },
  "language_info": {
   "file_extension": ".jl",
   "mimetype": "application/julia",
   "name": "julia",
   "version": "1.3.1"
  }
 },
 "nbformat": 4,
 "nbformat_minor": 4
}
